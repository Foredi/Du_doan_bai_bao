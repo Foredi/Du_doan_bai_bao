{
 "cells": [
  {
   "cell_type": "code",
   "execution_count": 1,
   "metadata": {},
   "outputs": [],
   "source": [
    "import requests\n",
    "from bs4 import BeautifulSoup\n",
    "import re\n",
    "import random\n",
    "import numpy as np\n",
    "import pandas as pd\n",
    "import joblib\n",
    "from sklearn.neighbors import KNeighborsClassifier\n",
    "from sklearn.model_selection import train_test_split, cross_val_score, KFold\n",
    "from sklearn.metrics import accuracy_score, confusion_matrix, f1_score\n",
    "from sklearn.naive_bayes import MultinomialNB\n",
    "from sklearn.svm import SVC"
   ]
  },
  {
   "cell_type": "markdown",
   "metadata": {},
   "source": [
    "# Bài 1"
   ]
  },
  {
   "cell_type": "markdown",
   "metadata": {},
   "source": [
    "## 1.  Tiền xử lý dữ liệu với Beautiful Soup, re,..."
   ]
  },
  {
   "cell_type": "code",
   "execution_count": 2,
   "metadata": {},
   "outputs": [],
   "source": [
    "def get_links(soup):\n",
    "    items = soup.find_all('h3', class_='title-news')\n",
    "    if len(items) == 0:\n",
    "        items = soup.find_all('article', class_='item-news')\n",
    "    links = [item.a['href'] for item in items if item.a is not None and item.a['href'].startswith('https://vnexpress.net/')]\n",
    "    return links\n",
    "\n",
    "def get_content(link):\n",
    "    html = requests.get(link)\n",
    "    sp = BeautifulSoup(html.text, 'html.parser')\n",
    "    content = sp.find('div', class_='sidebar-1').find_all('p', class_=['Normal', 'description'], align='', style='')\n",
    "    sentences = ''\n",
    "    for i in content:\n",
    "        if i.find('span') is not None:\n",
    "            i.span.decompose()\n",
    "        sentences += '\\n'\n",
    "        sentences += i.text\n",
    "        sentences += ' '\n",
    "    sentences = re.sub(r'\\n+', ' ', sentences)\n",
    "    sentences = re.sub(r'\\s+', ' ', sentences)\n",
    "    sentences = re.sub(r'[^\\w\\s.]', '', sentences)\n",
    "    return sentences\n",
    "\n",
    "def get_data(url):\n",
    "    data = []\n",
    "    i = 1\n",
    "    while len(data) < 50:\n",
    "        r = requests.get(url + '-p' + str(i))\n",
    "        soup = BeautifulSoup(r.text, 'html.parser')\n",
    "        links = get_links(soup)\n",
    "        for link in links:\n",
    "            sentences = get_content(link)\n",
    "            if sentences != '':\n",
    "                if len(data) >= 50:\n",
    "                    break\n",
    "                data.append(sentences)\n",
    "        if len(data) < 50:\n",
    "            i += 1\n",
    "        else:\n",
    "            i = 1\n",
    "    return data\n",
    "\n",
    "url = 'https://vnexpress.net/'\n",
    "\n",
    "list_label = ['thoi-su', 'the-gioi', 'giai-tri', 'the-thao', 'khoa-hoc']\n",
    "\n",
    "csv = []\n",
    "\n",
    "for label in list_label:\n",
    "    data = get_data(url + label)\n",
    "    for i in data:\n",
    "        csv.append([label, i])\n",
    "\n",
    "random.shuffle(csv)\n",
    "\n",
    "df = pd.DataFrame(csv, columns=['label', 'content'])\n",
    "df.to_csv('data.csv', index=False)"
   ]
  },
  {
   "cell_type": "markdown",
   "metadata": {},
   "source": [
    "## 2.  Tách từ (Tokenize) sử dụng thư viện pyvi hay underthesea"
   ]
  },
  {
   "cell_type": "code",
   "execution_count": 3,
   "metadata": {},
   "outputs": [
    {
     "data": {
      "text/html": [
       "<div>\n",
       "<style scoped>\n",
       "    .dataframe tbody tr th:only-of-type {\n",
       "        vertical-align: middle;\n",
       "    }\n",
       "\n",
       "    .dataframe tbody tr th {\n",
       "        vertical-align: top;\n",
       "    }\n",
       "\n",
       "    .dataframe thead th {\n",
       "        text-align: right;\n",
       "    }\n",
       "</style>\n",
       "<table border=\"1\" class=\"dataframe\">\n",
       "  <thead>\n",
       "    <tr style=\"text-align: right;\">\n",
       "      <th></th>\n",
       "      <th>label</th>\n",
       "      <th>content</th>\n",
       "    </tr>\n",
       "  </thead>\n",
       "  <tbody>\n",
       "    <tr>\n",
       "      <th>0</th>\n",
       "      <td>khoa-hoc</td>\n",
       "      <td>Lần đầu tiên một nhóm nhà khoa học ở Trung Qu...</td>\n",
       "    </tr>\n",
       "    <tr>\n",
       "      <th>1</th>\n",
       "      <td>giai-tri</td>\n",
       "      <td>Nhân vật ông Sắn Quang Tèo đóng liên tiếp gặp...</td>\n",
       "    </tr>\n",
       "    <tr>\n",
       "      <th>2</th>\n",
       "      <td>the-gioi</td>\n",
       "      <td>Hai trung đoàn hoàng gia sẽ bắn 103 phát đại ...</td>\n",
       "    </tr>\n",
       "    <tr>\n",
       "      <th>3</th>\n",
       "      <td>khoa-hoc</td>\n",
       "      <td>Khoảng 15.000 con gấu mèo sinh sống ở miền na...</td>\n",
       "    </tr>\n",
       "    <tr>\n",
       "      <th>4</th>\n",
       "      <td>khoa-hoc</td>\n",
       "      <td>Turbine gió ngoài khơi 16 MW do Trung Quốc tự...</td>\n",
       "    </tr>\n",
       "  </tbody>\n",
       "</table>\n",
       "</div>"
      ],
      "text/plain": [
       "      label                                            content\n",
       "0  khoa-hoc   Lần đầu tiên một nhóm nhà khoa học ở Trung Qu...\n",
       "1  giai-tri   Nhân vật ông Sắn Quang Tèo đóng liên tiếp gặp...\n",
       "2  the-gioi   Hai trung đoàn hoàng gia sẽ bắn 103 phát đại ...\n",
       "3  khoa-hoc   Khoảng 15.000 con gấu mèo sinh sống ở miền na...\n",
       "4  khoa-hoc   Turbine gió ngoài khơi 16 MW do Trung Quốc tự..."
      ]
     },
     "execution_count": 3,
     "metadata": {},
     "output_type": "execute_result"
    }
   ],
   "source": [
    "df = pd.read_csv('data.csv')\n",
    "df.head()"
   ]
  },
  {
   "cell_type": "code",
   "execution_count": 4,
   "metadata": {},
   "outputs": [
    {
     "data": {
      "text/html": [
       "<div>\n",
       "<style scoped>\n",
       "    .dataframe tbody tr th:only-of-type {\n",
       "        vertical-align: middle;\n",
       "    }\n",
       "\n",
       "    .dataframe tbody tr th {\n",
       "        vertical-align: top;\n",
       "    }\n",
       "\n",
       "    .dataframe thead th {\n",
       "        text-align: right;\n",
       "    }\n",
       "</style>\n",
       "<table border=\"1\" class=\"dataframe\">\n",
       "  <thead>\n",
       "    <tr style=\"text-align: right;\">\n",
       "      <th></th>\n",
       "      <th>label</th>\n",
       "      <th>content</th>\n",
       "    </tr>\n",
       "  </thead>\n",
       "  <tbody>\n",
       "    <tr>\n",
       "      <th>0</th>\n",
       "      <td>khoa-hoc</td>\n",
       "      <td>Lần đầu_tiên một nhóm nhà khoa_học ở Trung_Quố...</td>\n",
       "    </tr>\n",
       "    <tr>\n",
       "      <th>1</th>\n",
       "      <td>giai-tri</td>\n",
       "      <td>Nhân_vật ông Sắn Quang_Tèo đóng liên_tiếp gặp ...</td>\n",
       "    </tr>\n",
       "    <tr>\n",
       "      <th>2</th>\n",
       "      <td>the-gioi</td>\n",
       "      <td>Hai trung_đoàn hoàng_gia sẽ bắn 103 phát đại_b...</td>\n",
       "    </tr>\n",
       "    <tr>\n",
       "      <th>3</th>\n",
       "      <td>khoa-hoc</td>\n",
       "      <td>Khoảng 15.000 con gấu_mèo sinh_sống ở miền nam...</td>\n",
       "    </tr>\n",
       "    <tr>\n",
       "      <th>4</th>\n",
       "      <td>khoa-hoc</td>\n",
       "      <td>Turbine_gió ngoài khơi 16 MW do Trung_Quốc tự_...</td>\n",
       "    </tr>\n",
       "  </tbody>\n",
       "</table>\n",
       "</div>"
      ],
      "text/plain": [
       "      label                                            content\n",
       "0  khoa-hoc  Lần đầu_tiên một nhóm nhà khoa_học ở Trung_Quố...\n",
       "1  giai-tri  Nhân_vật ông Sắn Quang_Tèo đóng liên_tiếp gặp ...\n",
       "2  the-gioi  Hai trung_đoàn hoàng_gia sẽ bắn 103 phát đại_b...\n",
       "3  khoa-hoc  Khoảng 15.000 con gấu_mèo sinh_sống ở miền nam...\n",
       "4  khoa-hoc  Turbine_gió ngoài khơi 16 MW do Trung_Quốc tự_..."
      ]
     },
     "execution_count": 4,
     "metadata": {},
     "output_type": "execute_result"
    }
   ],
   "source": [
    "from pyvi import ViTokenizer\n",
    "\n",
    "def tokenize(text):\n",
    "    return ViTokenizer.tokenize(text)\n",
    "\n",
    "df_token = df.copy()\n",
    "\n",
    "df_token['content'] = df_token['content'].apply(tokenize)\n",
    "df_token.head()"
   ]
  },
  {
   "cell_type": "markdown",
   "metadata": {},
   "source": [
    "## 3.  Trích xuất đặc trưng TF-IDF bằng thư viện sklearn"
   ]
  },
  {
   "cell_type": "code",
   "execution_count": 5,
   "metadata": {},
   "outputs": [
    {
     "data": {
      "text/plain": [
       "array([[0., 0., 0., ..., 0., 0., 0.],\n",
       "       [0., 0., 0., ..., 0., 0., 0.],\n",
       "       [0., 0., 0., ..., 0., 0., 0.],\n",
       "       ...,\n",
       "       [0., 0., 0., ..., 0., 0., 0.],\n",
       "       [0., 0., 0., ..., 0., 0., 0.],\n",
       "       [0., 0., 0., ..., 0., 0., 0.]])"
      ]
     },
     "execution_count": 5,
     "metadata": {},
     "output_type": "execute_result"
    }
   ],
   "source": [
    "from sklearn.feature_extraction.text import TfidfVectorizer\n",
    "\n",
    "vectorizer = TfidfVectorizer()\n",
    "\n",
    "X = vectorizer.fit_transform(df_token['content']).toarray()\n",
    "y = df_token['label']\n",
    "\n",
    "joblib.dump(vectorizer, 'vectorizer.pkl')\n",
    "\n",
    "X"
   ]
  },
  {
   "cell_type": "markdown",
   "metadata": {},
   "source": [
    "## 4.  Đánh giá bộ dữ liệu với giải thuật KNN bằng phương pháp 5-Fold (k-fold)"
   ]
  },
  {
   "cell_type": "code",
   "execution_count": 6,
   "metadata": {},
   "outputs": [
    {
     "name": "stdout",
     "output_type": "stream",
     "text": [
      "KNN:  0.892\n"
     ]
    }
   ],
   "source": [
    "knn = KNeighborsClassifier(n_neighbors=5)\n",
    "\n",
    "kf = KFold(n_splits=5, shuffle=True, random_state=42)\n",
    "\n",
    "x = X\n",
    "\n",
    "score = cross_val_score(knn,  x, y, cv=kf, scoring='accuracy').mean()\n",
    "\n",
    "print('KNN: ', score)"
   ]
  },
  {
   "cell_type": "markdown",
   "metadata": {},
   "source": [
    "## 5, 6, 7, 8.  Huấn  luyện  dữ  liệu  cho  bài  toán  phân  loại văn bản  với  tỷ  lệ  dữ  liệu  8:2  (8  phần train, 2 phần test) sử dụng đặc trưng TF-IDF và 2 giải thuật Bayes, SVM. Đánh giá"
   ]
  },
  {
   "cell_type": "code",
   "execution_count": 7,
   "metadata": {},
   "outputs": [],
   "source": [
    "x_train, x_test, y_train, y_test = train_test_split(x, y, test_size=0.2, random_state=42)"
   ]
  },
  {
   "cell_type": "code",
   "execution_count": 8,
   "metadata": {},
   "outputs": [
    {
     "name": "stdout",
     "output_type": "stream",
     "text": [
      "Bayer:\n",
      "Accuracy:  0.84\n",
      "F1 score:  0.8386363636363636\n",
      "Confusion matrix: \n",
      " [[ 8  0  1  5  0]\n",
      " [ 0 10  0  0  0]\n",
      " [ 0  0  7  0  1]\n",
      " [ 0  0  0  9  0]\n",
      " [ 0  0  0  1  8]]\n",
      "\n",
      "SVM:\n",
      "Accuracy:  0.88\n",
      "F1 score:  0.8779893790420107\n",
      "Confusion matrix: \n",
      " [[11  1  0  1  1]\n",
      " [ 0 10  0  0  0]\n",
      " [ 0  1  6  0  1]\n",
      " [ 0  0  0  9  0]\n",
      " [ 1  0  0  0  8]]\n"
     ]
    },
    {
     "data": {
      "text/plain": [
       "['SVC.pkl']"
      ]
     },
     "execution_count": 8,
     "metadata": {},
     "output_type": "execute_result"
    }
   ],
   "source": [
    "bayer_model = MultinomialNB()\n",
    "svm_model = SVC()\n",
    "\n",
    "bayer_model.fit(x_train, y_train)\n",
    "svm_model.fit(x_train, y_train)\n",
    "\n",
    "y_pred_bayer = bayer_model.predict(x_test)\n",
    "y_pred_svm = svm_model.predict(x_test)\n",
    "\n",
    "print('Bayer:')\n",
    "print('Accuracy: ', accuracy_score(y_test, y_pred_bayer))\n",
    "print('F1 score: ', f1_score(y_test, y_pred_bayer, average='weighted'))\n",
    "print('Confusion matrix: \\n', confusion_matrix(y_test, y_pred_bayer))\n",
    "\n",
    "print('\\nSVM:')\n",
    "print('Accuracy: ', accuracy_score(y_test, y_pred_svm))\n",
    "print('F1 score: ', f1_score(y_test, y_pred_svm, average='weighted'))\n",
    "print('Confusion matrix: \\n', confusion_matrix(y_test, y_pred_svm))\n",
    "\n",
    "max_score = accuracy_score(y_test, y_pred_bayer)\n",
    "best_model = bayer_model\n",
    "\n",
    "if accuracy_score(y_test, y_pred_svm) > max_score:\n",
    "    max_score = accuracy_score(y_test, y_pred_svm)\n",
    "    best_model = svm_model\n",
    "\n",
    "joblib.dump(best_model, best_model.__class__.__name__ + '.pkl')"
   ]
  },
  {
   "cell_type": "markdown",
   "metadata": {},
   "source": [
    "Từ kết quả ta thấy SVC cho ra kết quả tốt hơn so với MultinomialNB với accuracy và f1-score là 0.92 và 0.92 so với 0.89 và 0.89."
   ]
  },
  {
   "cell_type": "code",
   "execution_count": 9,
   "metadata": {},
   "outputs": [
    {
     "data": {
      "text/plain": [
       "'the-gioi'"
      ]
     },
     "execution_count": 9,
     "metadata": {},
     "output_type": "execute_result"
    }
   ],
   "source": [
    "svc_model = joblib.load('SVC.pkl')\n",
    "\n",
    "def predict(text):\n",
    "    text = tokenize(text)\n",
    "    text = vectorizer.transform([text]).toarray()\n",
    "    return svc_model.predict(text)[0]\n",
    "\n",
    "predict('Tổng thống Mỹ Donald Trump đã ký sắc lệnh cấm TikTok và WeChat của Trung Quốc tại Mỹ, bắt đầu từ ngày 20/9.')"
   ]
  },
  {
   "cell_type": "markdown",
   "metadata": {},
   "source": [
    "# Bài 2"
   ]
  },
  {
   "cell_type": "code",
   "execution_count": 10,
   "metadata": {},
   "outputs": [
    {
     "name": "stdout",
     "output_type": "stream",
     "text": [
      "(4, 16)\n"
     ]
    }
   ],
   "source": [
    "from sklearn.feature_extraction.text import HashingVectorizer \n",
    "corpus = [ \n",
    "     ' Hôm_nay tôi đi_học',     \n",
    "     ' Hôm_nay tôi đi_học ở trường',     \n",
    "     ' Hôm_nay tôi nghỉ ở nhà',    \n",
    "     ' Hôm_nay tôi có đi_học không?', \n",
    "] \n",
    "vectorizer = HashingVectorizer(n_features=2**4) \n",
    "X = vectorizer.fit_transform(corpus) \n",
    "print(X.shape)"
   ]
  },
  {
   "cell_type": "code",
   "execution_count": null,
   "metadata": {},
   "outputs": [],
   "source": []
  }
 ],
 "metadata": {
  "kernelspec": {
   "display_name": "Python 3",
   "language": "python",
   "name": "python3"
  },
  "language_info": {
   "codemirror_mode": {
    "name": "ipython",
    "version": 3
   },
   "file_extension": ".py",
   "mimetype": "text/x-python",
   "name": "python",
   "nbconvert_exporter": "python",
   "pygments_lexer": "ipython3",
   "version": "3.11.3"
  },
  "orig_nbformat": 4
 },
 "nbformat": 4,
 "nbformat_minor": 2
}
